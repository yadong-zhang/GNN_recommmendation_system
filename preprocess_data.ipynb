{
 "cells": [
  {
   "cell_type": "code",
   "execution_count": 1,
   "metadata": {},
   "outputs": [],
   "source": [
    "import random\n",
    "import pickle\n",
    "import numpy as np\n",
    "import pandas as pd\n",
    "from tqdm import tqdm\n",
    "from scipy.io import loadmat"
   ]
  },
  {
   "cell_type": "code",
   "execution_count": 2,
   "metadata": {},
   "outputs": [],
   "source": [
    "click_f = loadmat('data/epinions/rating.mat')['rating']\n",
    "trust_f = loadmat('data/epinions/trustnetwork.mat')['trustnetwork']"
   ]
  },
  {
   "cell_type": "code",
   "execution_count": 3,
   "metadata": {},
   "outputs": [
    {
     "data": {
      "text/plain": [
       "array([[    1,     1,     3,     2],\n",
       "       [    1,     2,     2,     2],\n",
       "       [    1,     3,     3,     2],\n",
       "       ...,\n",
       "       [22166, 43538,     5,     5],\n",
       "       [22166, 38711,     3,     4],\n",
       "       [22166, 41790,     5,     3]])"
      ]
     },
     "execution_count": 3,
     "metadata": {},
     "output_type": "execute_result"
    }
   ],
   "source": [
    "click_f"
   ]
  },
  {
   "cell_type": "code",
   "execution_count": 4,
   "metadata": {},
   "outputs": [
    {
     "data": {
      "text/plain": [
       "array([[15373,  9831],\n",
       "       [ 4247,  9831],\n",
       "       [ 4644,  9831],\n",
       "       ...,\n",
       "       [13181, 15645],\n",
       "       [  897,  8000],\n",
       "       [ 8000,   897]], dtype=uint16)"
      ]
     },
     "execution_count": 4,
     "metadata": {},
     "output_type": "execute_result"
    }
   ],
   "source": [
    "trust_f"
   ]
  },
  {
   "cell_type": "code",
   "execution_count": 5,
   "metadata": {},
   "outputs": [],
   "source": [
    "click_list = []\n",
    "trust_list = []\n",
    "\n",
    "u_items_list = []\n",
    "u_users_list = []\n",
    "u_users_items_list = []\n",
    "i_users_list = []\n",
    "\n",
    "user_count = 0\n",
    "item_count = 0\n",
    "rate_count = 0"
   ]
  },
  {
   "cell_type": "code",
   "execution_count": 6,
   "metadata": {},
   "outputs": [],
   "source": [
    "for x in click_f:\n",
    "    uid = x[0]\n",
    "    iid = x[1]\n",
    "    label = x[2]\n",
    "    user_count = max(user_count, uid)\n",
    "    item_count = max(item_count, iid)\n",
    "    rate_count = max(rate_count, label)\n",
    "    click_list.append([uid, iid, label])"
   ]
  },
  {
   "cell_type": "code",
   "execution_count": 7,
   "metadata": {},
   "outputs": [],
   "source": [
    "pos_list = []\n",
    "for x in click_list:\n",
    "\tpos_list.append((x[0], x[1], x[2]))"
   ]
  },
  {
   "cell_type": "code",
   "execution_count": 8,
   "metadata": {},
   "outputs": [
    {
     "name": "stdout",
     "output_type": "stream",
     "text": [
      "Train samples: 730054, Valid samples: 91256, Test samples: 91256\n"
     ]
    }
   ],
   "source": [
    "pos_list = list(set(pos_list))\n",
    "random.shuffle(pos_list)\n",
    "num_test = int(len(pos_list) * 0.1)\n",
    "test_set = pos_list[:num_test]\n",
    "valid_set = pos_list[num_test:2 * num_test]\n",
    "train_set = pos_list[2 * num_test:]\n",
    "print('Train samples: {}, Valid samples: {}, Test samples: {}'.format(len(train_set), len(valid_set), len(test_set)))"
   ]
  },
  {
   "cell_type": "code",
   "execution_count": 9,
   "metadata": {},
   "outputs": [],
   "source": [
    "with open('data/dataset_epinions.pkl', 'wb') as f:\n",
    "\tpickle.dump(train_set, f, pickle.HIGHEST_PROTOCOL)\n",
    "\tpickle.dump(valid_set, f, pickle.HIGHEST_PROTOCOL)\n",
    "\tpickle.dump(test_set, f, pickle.HIGHEST_PROTOCOL)"
   ]
  },
  {
   "cell_type": "code",
   "execution_count": 10,
   "metadata": {},
   "outputs": [],
   "source": [
    "train_df = pd.DataFrame(train_set, columns = ['uid', 'iid', 'label'])\n",
    "valid_df = pd.DataFrame(valid_set, columns = ['uid', 'iid', 'label'])\n",
    "test_df = pd.DataFrame(test_set, columns = ['uid', 'iid', 'label'])\n",
    "\n",
    "click_df = pd.DataFrame(click_list, columns = ['uid', 'iid', 'label'])\n",
    "train_df = train_df.sort_values(axis = 0, ascending = True, by = 'uid')"
   ]
  },
  {
   "cell_type": "code",
   "execution_count": 11,
   "metadata": {},
   "outputs": [
    {
     "data": {
      "text/html": [
       "<div>\n",
       "<style scoped>\n",
       "    .dataframe tbody tr th:only-of-type {\n",
       "        vertical-align: middle;\n",
       "    }\n",
       "\n",
       "    .dataframe tbody tr th {\n",
       "        vertical-align: top;\n",
       "    }\n",
       "\n",
       "    .dataframe thead th {\n",
       "        text-align: right;\n",
       "    }\n",
       "</style>\n",
       "<table border=\"1\" class=\"dataframe\">\n",
       "  <thead>\n",
       "    <tr style=\"text-align: right;\">\n",
       "      <th></th>\n",
       "      <th>uid</th>\n",
       "      <th>iid</th>\n",
       "      <th>label</th>\n",
       "    </tr>\n",
       "  </thead>\n",
       "  <tbody>\n",
       "    <tr>\n",
       "      <th>527993</th>\n",
       "      <td>1</td>\n",
       "      <td>5</td>\n",
       "      <td>3</td>\n",
       "    </tr>\n",
       "    <tr>\n",
       "      <th>551242</th>\n",
       "      <td>1</td>\n",
       "      <td>2</td>\n",
       "      <td>2</td>\n",
       "    </tr>\n",
       "    <tr>\n",
       "      <th>479205</th>\n",
       "      <td>1</td>\n",
       "      <td>8</td>\n",
       "      <td>3</td>\n",
       "    </tr>\n",
       "    <tr>\n",
       "      <th>457030</th>\n",
       "      <td>1</td>\n",
       "      <td>4</td>\n",
       "      <td>3</td>\n",
       "    </tr>\n",
       "    <tr>\n",
       "      <th>589434</th>\n",
       "      <td>1</td>\n",
       "      <td>10</td>\n",
       "      <td>3</td>\n",
       "    </tr>\n",
       "    <tr>\n",
       "      <th>...</th>\n",
       "      <td>...</td>\n",
       "      <td>...</td>\n",
       "      <td>...</td>\n",
       "    </tr>\n",
       "    <tr>\n",
       "      <th>652375</th>\n",
       "      <td>22166</td>\n",
       "      <td>41790</td>\n",
       "      <td>5</td>\n",
       "    </tr>\n",
       "    <tr>\n",
       "      <th>379267</th>\n",
       "      <td>22166</td>\n",
       "      <td>38711</td>\n",
       "      <td>3</td>\n",
       "    </tr>\n",
       "    <tr>\n",
       "      <th>188869</th>\n",
       "      <td>22166</td>\n",
       "      <td>83922</td>\n",
       "      <td>5</td>\n",
       "    </tr>\n",
       "    <tr>\n",
       "      <th>555759</th>\n",
       "      <td>22166</td>\n",
       "      <td>53887</td>\n",
       "      <td>5</td>\n",
       "    </tr>\n",
       "    <tr>\n",
       "      <th>379564</th>\n",
       "      <td>22166</td>\n",
       "      <td>53125</td>\n",
       "      <td>5</td>\n",
       "    </tr>\n",
       "  </tbody>\n",
       "</table>\n",
       "<p>730054 rows × 3 columns</p>\n",
       "</div>"
      ],
      "text/plain": [
       "          uid    iid  label\n",
       "527993      1      5      3\n",
       "551242      1      2      2\n",
       "479205      1      8      3\n",
       "457030      1      4      3\n",
       "589434      1     10      3\n",
       "...       ...    ...    ...\n",
       "652375  22166  41790      5\n",
       "379267  22166  38711      3\n",
       "188869  22166  83922      5\n",
       "555759  22166  53887      5\n",
       "379564  22166  53125      5\n",
       "\n",
       "[730054 rows x 3 columns]"
      ]
     },
     "execution_count": 11,
     "metadata": {},
     "output_type": "execute_result"
    }
   ],
   "source": [
    "train_df"
   ]
  },
  {
   "cell_type": "code",
   "execution_count": 12,
   "metadata": {},
   "outputs": [
    {
     "name": "stderr",
     "output_type": "stream",
     "text": [
      "100%|██████████| 22167/22167 [00:22<00:00, 1000.28it/s]\n"
     ]
    }
   ],
   "source": [
    "for user in tqdm(range(user_count + 1)):\n",
    "    user_df = train_df[train_df['uid'] == user]\n",
    "    user_items = user_df['iid'].tolist()\n",
    "    user_ratings = user_df['label'].tolist()\n",
    "    if len(user_items) == 0:\n",
    "        u_items_list.append([(0, 0)])\n",
    "    else:\n",
    "        u_items_list.append([(iid, rating) for iid, rating in zip(user_items, user_ratings)])"
   ]
  },
  {
   "cell_type": "code",
   "execution_count": 13,
   "metadata": {},
   "outputs": [
    {
     "name": "stderr",
     "output_type": "stream",
     "text": [
      "100%|██████████| 296278/296278 [04:37<00:00, 1067.85it/s]\n"
     ]
    }
   ],
   "source": [
    "for item in tqdm(range(item_count + 1)):\n",
    "    item_df = train_df[train_df['iid'] == item]\n",
    "    item_users = item_df['uid'].tolist()\n",
    "    item_ratings = item_df['label'].tolist()\n",
    "    if len(item_users) == 0:\n",
    "        i_users_list.append([(0, 0)])\n",
    "    else:\n",
    "        i_users_list.append([(uid, rating) for uid, rating in zip(item_users, item_ratings)])"
   ]
  },
  {
   "cell_type": "code",
   "execution_count": 14,
   "metadata": {},
   "outputs": [],
   "source": [
    "for x in trust_f:\n",
    "    uid = x[0]\n",
    "    fid = x[1]\n",
    "    if uid > user_count or fid > user_count:\n",
    "        continue\n",
    "    trust_list.append([uid, fid])"
   ]
  },
  {
   "cell_type": "code",
   "execution_count": 15,
   "metadata": {},
   "outputs": [],
   "source": [
    "trust_df = pd.DataFrame(trust_list, columns = ['uid', 'fid'])\n",
    "trust_df = trust_df.sort_values(axis = 0, ascending = True, by = 'uid')"
   ]
  },
  {
   "cell_type": "code",
   "execution_count": 16,
   "metadata": {},
   "outputs": [
    {
     "data": {
      "text/html": [
       "<div>\n",
       "<style scoped>\n",
       "    .dataframe tbody tr th:only-of-type {\n",
       "        vertical-align: middle;\n",
       "    }\n",
       "\n",
       "    .dataframe tbody tr th {\n",
       "        vertical-align: top;\n",
       "    }\n",
       "\n",
       "    .dataframe thead th {\n",
       "        text-align: right;\n",
       "    }\n",
       "</style>\n",
       "<table border=\"1\" class=\"dataframe\">\n",
       "  <thead>\n",
       "    <tr style=\"text-align: right;\">\n",
       "      <th></th>\n",
       "      <th>uid</th>\n",
       "      <th>fid</th>\n",
       "    </tr>\n",
       "  </thead>\n",
       "  <tbody>\n",
       "    <tr>\n",
       "      <th>283312</th>\n",
       "      <td>2</td>\n",
       "      <td>7659</td>\n",
       "    </tr>\n",
       "    <tr>\n",
       "      <th>84889</th>\n",
       "      <td>2</td>\n",
       "      <td>829</td>\n",
       "    </tr>\n",
       "    <tr>\n",
       "      <th>221672</th>\n",
       "      <td>2</td>\n",
       "      <td>21911</td>\n",
       "    </tr>\n",
       "    <tr>\n",
       "      <th>247685</th>\n",
       "      <td>2</td>\n",
       "      <td>7336</td>\n",
       "    </tr>\n",
       "    <tr>\n",
       "      <th>306637</th>\n",
       "      <td>2</td>\n",
       "      <td>6339</td>\n",
       "    </tr>\n",
       "    <tr>\n",
       "      <th>...</th>\n",
       "      <td>...</td>\n",
       "      <td>...</td>\n",
       "    </tr>\n",
       "    <tr>\n",
       "      <th>285484</th>\n",
       "      <td>22164</td>\n",
       "      <td>5864</td>\n",
       "    </tr>\n",
       "    <tr>\n",
       "      <th>283826</th>\n",
       "      <td>22164</td>\n",
       "      <td>11427</td>\n",
       "    </tr>\n",
       "    <tr>\n",
       "      <th>285362</th>\n",
       "      <td>22164</td>\n",
       "      <td>10897</td>\n",
       "    </tr>\n",
       "    <tr>\n",
       "      <th>135466</th>\n",
       "      <td>22165</td>\n",
       "      <td>2198</td>\n",
       "    </tr>\n",
       "    <tr>\n",
       "      <th>263608</th>\n",
       "      <td>22165</td>\n",
       "      <td>14953</td>\n",
       "    </tr>\n",
       "  </tbody>\n",
       "</table>\n",
       "<p>355754 rows × 2 columns</p>\n",
       "</div>"
      ],
      "text/plain": [
       "          uid    fid\n",
       "283312      2   7659\n",
       "84889       2    829\n",
       "221672      2  21911\n",
       "247685      2   7336\n",
       "306637      2   6339\n",
       "...       ...    ...\n",
       "285484  22164   5864\n",
       "283826  22164  11427\n",
       "285362  22164  10897\n",
       "135466  22165   2198\n",
       "263608  22165  14953\n",
       "\n",
       "[355754 rows x 2 columns]"
      ]
     },
     "execution_count": 16,
     "metadata": {},
     "output_type": "execute_result"
    }
   ],
   "source": [
    "trust_df"
   ]
  },
  {
   "cell_type": "code",
   "execution_count": 17,
   "metadata": {},
   "outputs": [
    {
     "name": "stderr",
     "output_type": "stream",
     "text": [
      "100%|██████████| 22167/22167 [00:12<00:00, 1771.78it/s]\n"
     ]
    }
   ],
   "source": [
    "for user in tqdm(range(user_count + 1)):\n",
    "    user_df = trust_df[trust_df['uid'] == user]\n",
    "    u_users = user_df['fid'].unique().tolist()\n",
    "    if len(u_users) == 0:\n",
    "        u_users_list.append([0])\n",
    "        u_users_items_list.append([[(0, 0)]])\n",
    "    else:\n",
    "        u_users_list.append(u_users)\n",
    "        uu_items = []\n",
    "        for uid in u_users:\n",
    "            uu_items.append(u_items_list[uid])\n",
    "        u_users_items_list.append(uu_items)"
   ]
  },
  {
   "cell_type": "code",
   "execution_count": 18,
   "metadata": {},
   "outputs": [],
   "source": [
    "with open('data/list_epinions.pkl', 'wb') as f:\n",
    "\tpickle.dump(u_items_list, f, pickle.HIGHEST_PROTOCOL)\n",
    "\tpickle.dump(u_users_list, f, pickle.HIGHEST_PROTOCOL)\n",
    "\tpickle.dump(u_users_items_list, f, pickle.HIGHEST_PROTOCOL)\n",
    "\tpickle.dump(i_users_list, f, pickle.HIGHEST_PROTOCOL)\n",
    "\tpickle.dump((user_count, item_count, rate_count), f, pickle.HIGHEST_PROTOCOL)"
   ]
  },
  {
   "cell_type": "code",
   "execution_count": null,
   "metadata": {},
   "outputs": [],
   "source": []
  }
 ],
 "metadata": {
  "interpreter": {
   "hash": "ec7d137c6e0bfe5aec1849c5c512dd0bf44cf2eb2fae9fc2de49724729b3d6c6"
  },
  "kernelspec": {
   "display_name": "Python 3.7.11 64-bit ('torch1.7': conda)",
   "language": "python",
   "name": "python3"
  },
  "language_info": {
   "codemirror_mode": {
    "name": "ipython",
    "version": 3
   },
   "file_extension": ".py",
   "mimetype": "text/x-python",
   "name": "python",
   "nbconvert_exporter": "python",
   "pygments_lexer": "ipython3",
   "version": "3.7.11"
  },
  "orig_nbformat": 4
 },
 "nbformat": 4,
 "nbformat_minor": 2
}
